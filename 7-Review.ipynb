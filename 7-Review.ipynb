{
 "cells": [
  {
   "cell_type": "markdown",
   "metadata": {},
   "source": [
    "## Exercises: What type of ML could you use to approach these problems?\n",
    "\n",
    "Note: for some of these, there's no one right answer! It's all about how you frame the specific problem. Discuss with the person next to you."
   ]
  },
  {
   "cell_type": "markdown",
   "metadata": {},
   "source": [
    "1) Suppose you wanted to make a robot that can avoid colliding with other objects. What kind of learning? (supervised, unsupervised, etc.) Would you use classification or regression?  \n",
    "2) Suppose that given an audio file, you want to figure out if the person is saying 'cat' or 'dog'. What kind of learning? (supervised, unsupervised, etc.) Would you use classification or regression?  \n",
    "3) Suppose you wanted to make an AI that can find some trends in numerical galaxy data. You're not sure what trends you want, but you really just want to let your AI run wild! What kind of learning? (supervised, unsupervised, etc.) Would you use classification or regression?"
   ]
  },
  {
   "cell_type": "markdown",
   "metadata": {},
   "source": [
    "## Feature Selection\n",
    "\n",
    "Feature selection is very important because if we put unhelpful, noisy data in, then we're going to get strange results. By using feature selection, the model trains faster, and can improve its accuracy.\n",
    "\n",
    "Suppose that given a specific person, we're trying to predict whether or not they have cancer. Below are a list of potential features.\n",
    "\n",
    "Tumor Size  \n",
    "Gender  \n",
    "Location of Tumor\n",
    "Address of the Hospital where a Patient is Treated  \n",
    "Hospital Name (where Patient was Diagnosed)\n",
    "\n",
    "Which features would you keep? Which features would you drop?  \n",
    "Discuss with the person next to you.\n"
   ]
  },
  {
   "cell_type": "code",
   "execution_count": null,
   "metadata": {},
   "outputs": [],
   "source": []
  }
 ],
 "metadata": {
  "kernelspec": {
   "display_name": "Python 3",
   "language": "python",
   "name": "python3"
  },
  "language_info": {
   "codemirror_mode": {
    "name": "ipython",
    "version": 3
   },
   "file_extension": ".py",
   "mimetype": "text/x-python",
   "name": "python",
   "nbconvert_exporter": "python",
   "pygments_lexer": "ipython3",
   "version": "3.7.3"
  }
 },
 "nbformat": 4,
 "nbformat_minor": 2
}
